{
 "cells": [
  {
   "cell_type": "code",
   "execution_count": 5,
   "id": "e227a7a2-68f4-4467-ab9d-9584833146bb",
   "metadata": {},
   "outputs": [
    {
     "name": "stdout",
     "output_type": "stream",
     "text": [
      "1\n",
      "2\n",
      "3\n",
      "4\n",
      "5\n",
      "Empty Stack\n"
     ]
    }
   ],
   "source": [
    "# stacks basic Code\n",
    "class Stack:\n",
    "    def __init__(self,size):\n",
    "        self.stack=[]\n",
    "        self.size=size\n",
    "\n",
    "    \n",
    "    def append(self, x):\n",
    "        if self.is_full():\n",
    "            print(\"stack is full\")\n",
    "            return\n",
    "        self.stack.append(x)\n",
    "\n",
    "    \n",
    "    def pop(self):\n",
    "        if self.is_empty():\n",
    "            print(\"Empty Stack\")\n",
    "            return\n",
    "        self.stack.pop()\n",
    "\n",
    "    \n",
    "    def print_stack(self):\n",
    "        if self.is_empty():\n",
    "            print(\"Empty Stack\")\n",
    "            return\n",
    "        for x in range(len(self.stack)):\n",
    "            print(self.stack[x])\n",
    "\n",
    "    \n",
    "    def is_empty(self):\n",
    "        if len(self.stack)==0:\n",
    "            return True\n",
    "        return False\n",
    "\n",
    "    \n",
    "    def is_full(self):\n",
    "        if len(self.stack)==self.size:\n",
    "            return True\n",
    "        return False\n",
    "\n",
    "\n",
    "if __name__==\"__main__\":\n",
    "    stack=Stack(5)\n",
    "    stack.append(1)\n",
    "    stack.append(2)\n",
    "    stack.append(3)\n",
    "    stack.append(4)\n",
    "    stack.append(5)\n",
    "\n",
    "    stack.print_stack()\n",
    "    \n",
    "    stack.pop()\n",
    "    stack.pop()\n",
    "    stack.pop()\n",
    "    stack.pop()\n",
    "    stack.pop()\n",
    "    stack.pop()\n",
    "\n",
    "    "
   ]
  },
  {
   "cell_type": "code",
   "execution_count": null,
   "id": "8ff20a6d-1ae4-4008-aeaa-cd4781d5ddad",
   "metadata": {},
   "outputs": [],
   "source": []
  }
 ],
 "metadata": {
  "kernelspec": {
   "display_name": "Python 3 (ipykernel)",
   "language": "python",
   "name": "python3"
  },
  "language_info": {
   "codemirror_mode": {
    "name": "ipython",
    "version": 3
   },
   "file_extension": ".py",
   "mimetype": "text/x-python",
   "name": "python",
   "nbconvert_exporter": "python",
   "pygments_lexer": "ipython3",
   "version": "3.11.7"
  }
 },
 "nbformat": 4,
 "nbformat_minor": 5
}
