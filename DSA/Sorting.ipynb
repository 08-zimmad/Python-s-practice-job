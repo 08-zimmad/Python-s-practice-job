{
 "cells": [
  {
   "cell_type": "code",
   "execution_count": null,
   "id": "bc265072-b6dd-41ee-bc14-964710c38d95",
   "metadata": {},
   "outputs": [],
   "source": [
    "# Merge Sort\n",
    "def merge_sort(arr):\n",
    "    if len(arr) > 1:\n",
    "        # Divide the array into two halves\n",
    "        mid = len(arr) // 2\n",
    "\n",
    "        left_half = arr[:mid]  \n",
    "        right_half = arr[mid:]\n",
    "\n",
    "\n",
    "\n",
    "\n",
    "\n",
    "        # Recursively sort each half\n",
    "        merge_sort(left_half)\n",
    "        merge_sort(right_half)\n",
    "\n",
    "        # Merge the sorted halves\n",
    "        i = j = k = 0\n",
    "        while i < len(left_half) and j < len(right_half):\n",
    "            if left_half[i] < right_half[j]:\n",
    "                arr[k] = left_half[i]\n",
    "                i += 1\n",
    "            else:\n",
    "                arr[k] = right_half[j]\n",
    "                j += 1\n",
    "            k += 1\n",
    "\n",
    "        # Copy the remaining elements of left_half, if any\n",
    "        while i < len(left_half):\n",
    "            arr[k] = left_half[i]\n",
    "            i += 1\n",
    "            k += 1\n",
    "\n",
    "        # Copy the remaining elements of right_half, if any\n",
    "        while j < len(right_half):\n",
    "            arr[k] = right_half[j]\n",
    "            j += 1\n",
    "            k += 1\n",
    "\n",
    "# Example usage:\n",
    "arr = [12, 11, 13, 5, 6, 7]\n",
    "merge_sort(arr)\n",
    "print(\"Sorted array:\", arr)\n"
   ]
  },
  {
   "cell_type": "code",
   "execution_count": 3,
   "id": "44eb7443-98c5-4d84-8d7d-1a492c01388f",
   "metadata": {},
   "outputs": [
    {
     "name": "stdout",
     "output_type": "stream",
     "text": [
      "Unsorted List:  [23, 12, 5, 24, 23, 76, 86, 24, 86, 24, 75]\n",
      "Sorted List:  [5, 12, 23, 23, 24, 24, 24, 75, 76, 86, 86]\n"
     ]
    }
   ],
   "source": [
    "# Bubble Sort\n",
    "def BubbleSort(list):\n",
    "    print(\"Unsorted List: \", list)\n",
    "    n=len(list)\n",
    "    for i in range(n-1):\n",
    "        for j in range(0,n-i-1):\n",
    "            if list[j]>list[j+1]:\n",
    "                list[j], list[j+1]=list[j+1], list[j]\n",
    "    print(\"Sorted List: \", list)\n",
    "\n",
    "\n",
    "BubbleSort([23, 12, 5, 24, 23, 76, 86, 24, 86, 24, 75] )"
   ]
  },
  {
   "cell_type": "code",
   "execution_count": 4,
   "id": "9a48cd58-8076-48f7-ba4f-c07786a045a5",
   "metadata": {},
   "outputs": [
    {
     "name": "stdout",
     "output_type": "stream",
     "text": [
      "Unsorted list [23, 12, 5, 24, 23, 76, 86, 24, 86, 24, 75]\n",
      "Sorted List:  [5, 12, 23, 23, 24, 24, 24, 75, 76, 86, 86]\n"
     ]
    }
   ],
   "source": [
    "# Selection Sort\n",
    "def selection_sort(list):\n",
    "    print(\"Unsorted list\",list)\n",
    "    for i in range(len(list)):\n",
    "        min_val=i\n",
    "        for j in range(i,len(list)):\n",
    "            if list[min_val]>list[j]:\n",
    "                min_val=j\n",
    "        list[min_val], list[i]=list[i], list[min_val]\n",
    "    print(\"Sorted List: \", list)\n",
    "\n",
    "selection_sort([23, 12, 5, 24, 23, 76, 86, 24, 86, 24, 75])"
   ]
  },
  {
   "cell_type": "code",
   "execution_count": null,
   "id": "72f4086a-b9a5-462a-b048-e1dcd5483c2a",
   "metadata": {},
   "outputs": [],
   "source": []
  }
 ],
 "metadata": {
  "kernelspec": {
   "display_name": "Python 3 (ipykernel)",
   "language": "python",
   "name": "python3"
  },
  "language_info": {
   "codemirror_mode": {
    "name": "ipython",
    "version": 3
   },
   "file_extension": ".py",
   "mimetype": "text/x-python",
   "name": "python",
   "nbconvert_exporter": "python",
   "pygments_lexer": "ipython3",
   "version": "3.11.7"
  }
 },
 "nbformat": 4,
 "nbformat_minor": 5
}
